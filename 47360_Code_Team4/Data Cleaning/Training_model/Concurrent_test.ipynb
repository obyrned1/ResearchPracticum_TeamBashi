{
 "cells": [
  {
   "cell_type": "code",
   "execution_count": 1,
   "metadata": {},
   "outputs": [],
   "source": [
    "import urllib.parse\n",
    "import urllib.request\n",
    "import json\n",
    "import time\n",
    "import pandas as pd\n",
    "from sklearn.externals import joblib\n",
    "import multiprocessing\n",
    "import numpy as np"
   ]
  },
  {
   "cell_type": "code",
   "execution_count": 2,
   "metadata": {},
   "outputs": [],
   "source": [
    "def getWeatherInfo():\n",
    "    url = \"http://api.openweathermap.org/data/2.5/weather?id=2964574&units=metric&APPID=31f19a108384bc317e2d91c5621c791e\"\n",
    "    with urllib.request.urlopen(url) as url:\n",
    "        data = json.loads(url.read().decode('utf-8-sig'))\n",
    "    # Return only the data for the next 24 hours\n",
    "    weatherDict = {}\n",
    "    weatherDict[\"temp\"] = data[\"main\"][\"temp\"]\n",
    "    weatherDict[\"wind\"] = data[\"wind\"][\"speed\"]\n",
    "    try:\n",
    "        rain = data[\"main\"][\"rain\"]\n",
    "    except KeyError:\n",
    "        rain = 0\n",
    "    weatherDict[\"rain\"] = rain\n",
    "    return weatherDict"
   ]
  },
  {
   "cell_type": "code",
   "execution_count": 3,
   "metadata": {},
   "outputs": [],
   "source": [
    "def timePredict(stopID, legRouteLine, prog_number, weekday, hour, route_start_stop, route_end_stop, weather):\n",
    "    #    print()\n",
    "    #    print(\"prog number \", prog_number)\n",
    "    #    print()\n",
    "    modelname = \"models/\" + legRouteLine + \".sav\"\n",
    "    normname = \"models/n\" + legRouteLine + \".sav\"\n",
    "    columnname = \"models/c\" + legRouteLine + \".csv\"\n",
    "\n",
    "    loaded_mlp = joblib.load(modelname)\n",
    "    loaded_scaler = joblib.load(normname)\n",
    "    columnsname = pd.read_csv(columnname).columns\n",
    "\n",
    "    data = [{\n",
    "        \"stopID_\" + str(stopID): 1,\n",
    "        \"progrnumber_\" + str(prog_number): 1,\n",
    "        \"weekday_\" + str(weekday): 1,\n",
    "        \"hour_\" + str(hour): 1,\n",
    "        \"route_start_stop_\" + str(route_start_stop): 1,\n",
    "        \"route_end_stop_\" + str(route_end_stop): 1,\n",
    "        \"rain\": weather['rain'],\n",
    "        \"temp\": weather['temp'],\n",
    "        \"wdsp\": weather['wind'],\n",
    "    }]\n",
    "\n",
    "    df = pd.DataFrame(data, columns=columnsname)\n",
    "    #    print(df)\n",
    "    df = df.fillna(0)\n",
    "    normalized_df = loaded_scaler.transform(df)\n",
    "    big_df = pd.DataFrame(normalized_df, columns=columnsname)\n",
    "    X_df = big_df.drop(['target'], axis=1)\n",
    "    target = loaded_mlp.predict(X_df)\n",
    "    big_df['target'] = target\n",
    "    predictionTime = loaded_scaler.inverse_transform(big_df)\n",
    "    predictionTime = pd.DataFrame(predictionTime, columns=columnsname)\n",
    "    predict = str(predictionTime['target']).replace(\" \", \"\")\n",
    "    predict = predict[1:]\n",
    "    predict = predict.split(\".\")[0]\n",
    "    #    print(predict)\n",
    "    return int(predict)"
   ]
  },
  {
   "cell_type": "code",
   "execution_count": 4,
   "metadata": {},
   "outputs": [],
   "source": [
    "weather = getWeatherInfo()"
   ]
  },
  {
   "cell_type": "code",
   "execution_count": 5,
   "metadata": {},
   "outputs": [
    {
     "data": {
      "text/html": [
       "<div>\n",
       "<style scoped>\n",
       "    .dataframe tbody tr th:only-of-type {\n",
       "        vertical-align: middle;\n",
       "    }\n",
       "\n",
       "    .dataframe tbody tr th {\n",
       "        vertical-align: top;\n",
       "    }\n",
       "\n",
       "    .dataframe thead th {\n",
       "        text-align: right;\n",
       "    }\n",
       "</style>\n",
       "<table border=\"1\" class=\"dataframe\">\n",
       "  <thead>\n",
       "    <tr style=\"text-align: right;\">\n",
       "      <th></th>\n",
       "      <th>trip_id</th>\n",
       "      <th>departure_time</th>\n",
       "      <th>stop_headsign</th>\n",
       "      <th>prog_number</th>\n",
       "      <th>shape_dist_traveled</th>\n",
       "      <th>hour</th>\n",
       "      <th>distance</th>\n",
       "      <th>stop_id</th>\n",
       "      <th>line_ID</th>\n",
       "      <th>shape_id</th>\n",
       "      <th>weekday</th>\n",
       "      <th>previous_stopID</th>\n",
       "      <th>route_end_stop</th>\n",
       "      <th>route_start_stop</th>\n",
       "      <th>route_start_time</th>\n",
       "      <th>route_end_time</th>\n",
       "    </tr>\n",
       "  </thead>\n",
       "  <tbody>\n",
       "    <tr>\n",
       "      <th>0</th>\n",
       "      <td>3643.y102m.60-1-d12-1.1.O</td>\n",
       "      <td>56400</td>\n",
       "      <td>Sandymount</td>\n",
       "      <td>1</td>\n",
       "      <td>0.000000</td>\n",
       "      <td>15</td>\n",
       "      <td>261.136188</td>\n",
       "      <td>226</td>\n",
       "      <td>1</td>\n",
       "      <td>60-1-d12-1.1.O</td>\n",
       "      <td>y102m</td>\n",
       "      <td>NaN</td>\n",
       "      <td>380</td>\n",
       "      <td>226</td>\n",
       "      <td>56400</td>\n",
       "      <td>59501</td>\n",
       "    </tr>\n",
       "    <tr>\n",
       "      <th>1</th>\n",
       "      <td>3643.y102m.60-1-d12-1.1.O</td>\n",
       "      <td>56447</td>\n",
       "      <td>Sandymount</td>\n",
       "      <td>2</td>\n",
       "      <td>261.136188</td>\n",
       "      <td>15</td>\n",
       "      <td>223.789101</td>\n",
       "      <td>228</td>\n",
       "      <td>1</td>\n",
       "      <td>60-1-d12-1.1.O</td>\n",
       "      <td>y102m</td>\n",
       "      <td>226.0</td>\n",
       "      <td>380</td>\n",
       "      <td>226</td>\n",
       "      <td>56400</td>\n",
       "      <td>59501</td>\n",
       "    </tr>\n",
       "    <tr>\n",
       "      <th>2</th>\n",
       "      <td>3643.y102m.60-1-d12-1.1.O</td>\n",
       "      <td>56486</td>\n",
       "      <td>Sandymount</td>\n",
       "      <td>3</td>\n",
       "      <td>484.925289</td>\n",
       "      <td>15</td>\n",
       "      <td>352.070390</td>\n",
       "      <td>229</td>\n",
       "      <td>1</td>\n",
       "      <td>60-1-d12-1.1.O</td>\n",
       "      <td>y102m</td>\n",
       "      <td>228.0</td>\n",
       "      <td>380</td>\n",
       "      <td>226</td>\n",
       "      <td>56400</td>\n",
       "      <td>59501</td>\n",
       "    </tr>\n",
       "    <tr>\n",
       "      <th>3</th>\n",
       "      <td>3643.y102m.60-1-d12-1.1.O</td>\n",
       "      <td>56550</td>\n",
       "      <td>Sandymount</td>\n",
       "      <td>4</td>\n",
       "      <td>836.995679</td>\n",
       "      <td>15</td>\n",
       "      <td>229.466104</td>\n",
       "      <td>227</td>\n",
       "      <td>1</td>\n",
       "      <td>60-1-d12-1.1.O</td>\n",
       "      <td>y102m</td>\n",
       "      <td>229.0</td>\n",
       "      <td>380</td>\n",
       "      <td>226</td>\n",
       "      <td>56400</td>\n",
       "      <td>59501</td>\n",
       "    </tr>\n",
       "    <tr>\n",
       "      <th>4</th>\n",
       "      <td>3643.y102m.60-1-d12-1.1.O</td>\n",
       "      <td>56589</td>\n",
       "      <td>Sandymount</td>\n",
       "      <td>5</td>\n",
       "      <td>1066.461783</td>\n",
       "      <td>15</td>\n",
       "      <td>292.654153</td>\n",
       "      <td>230</td>\n",
       "      <td>1</td>\n",
       "      <td>60-1-d12-1.1.O</td>\n",
       "      <td>y102m</td>\n",
       "      <td>227.0</td>\n",
       "      <td>380</td>\n",
       "      <td>226</td>\n",
       "      <td>56400</td>\n",
       "      <td>59501</td>\n",
       "    </tr>\n",
       "  </tbody>\n",
       "</table>\n",
       "</div>"
      ],
      "text/plain": [
       "                     trip_id  departure_time stop_headsign  prog_number  \\\n",
       "0  3643.y102m.60-1-d12-1.1.O           56400    Sandymount            1   \n",
       "1  3643.y102m.60-1-d12-1.1.O           56447    Sandymount            2   \n",
       "2  3643.y102m.60-1-d12-1.1.O           56486    Sandymount            3   \n",
       "3  3643.y102m.60-1-d12-1.1.O           56550    Sandymount            4   \n",
       "4  3643.y102m.60-1-d12-1.1.O           56589    Sandymount            5   \n",
       "\n",
       "   shape_dist_traveled  hour    distance  stop_id line_ID        shape_id  \\\n",
       "0             0.000000    15  261.136188      226       1  60-1-d12-1.1.O   \n",
       "1           261.136188    15  223.789101      228       1  60-1-d12-1.1.O   \n",
       "2           484.925289    15  352.070390      229       1  60-1-d12-1.1.O   \n",
       "3           836.995679    15  229.466104      227       1  60-1-d12-1.1.O   \n",
       "4          1066.461783    15  292.654153      230       1  60-1-d12-1.1.O   \n",
       "\n",
       "  weekday  previous_stopID  route_end_stop  route_start_stop  \\\n",
       "0   y102m              NaN             380               226   \n",
       "1   y102m            226.0             380               226   \n",
       "2   y102m            228.0             380               226   \n",
       "3   y102m            229.0             380               226   \n",
       "4   y102m            227.0             380               226   \n",
       "\n",
       "   route_start_time  route_end_time  \n",
       "0             56400           59501  \n",
       "1             56400           59501  \n",
       "2             56400           59501  \n",
       "3             56400           59501  \n",
       "4             56400           59501  "
      ]
     },
     "execution_count": 5,
     "metadata": {},
     "output_type": "execute_result"
    }
   ],
   "source": [
    "timetable = pd.read_csv(\"timetable.csv\",dtype={\"line_ID\":str})\n",
    "timetable.head()"
   ]
  },
  {
   "cell_type": "code",
   "execution_count": 17,
   "metadata": {},
   "outputs": [
    {
     "data": {
      "text/plain": [
       "128"
      ]
     },
     "execution_count": 17,
     "metadata": {},
     "output_type": "execute_result"
    }
   ],
   "source": [
    "len(timetable.line_ID.unique())"
   ]
  },
  {
   "cell_type": "code",
   "execution_count": 18,
   "metadata": {},
   "outputs": [
    {
     "name": "stdout",
     "output_type": "stream",
     "text": [
      "608.0721292495728\n"
     ]
    }
   ],
   "source": [
    "planned=[]\n",
    "start_time = time.time()\n",
    "for index, row in timetable.iterrows():\n",
    "    if row[\"line_ID\"]== \"145\":\n",
    "        planned_departure_time =  timePredict(row[\"stop_id\"],row[\"line_ID\"],row[\"prog_number\"],row[\"weekday\"],row[\"hour\"],row[\"route_start_stop\"],row[\"route_end_stop\"],weather)\n",
    "        planned.append(planned_departure_time)\n",
    "print((time.time() - start_time))"
   ]
  },
  {
   "cell_type": "code",
   "execution_count": null,
   "metadata": {},
   "outputs": [],
   "source": [
    "# timetable[\"planned_departure_time\"]=planned"
   ]
  },
  {
   "cell_type": "markdown",
   "metadata": {},
   "source": [
    "# multiprocessing"
   ]
  },
  {
   "cell_type": "code",
   "execution_count": 6,
   "metadata": {},
   "outputs": [],
   "source": [
    "timetable[\"planned_departure_time\"] = np.nan"
   ]
  },
  {
   "cell_type": "code",
   "execution_count": 7,
   "metadata": {},
   "outputs": [],
   "source": [
    "def func(d):\n",
    "    for index, row in d.iterrows():\n",
    "        if row[\"line_ID\"] == \"145\":\n",
    "            d.set_value(idx,\"planned_departure_time\",row[\"route_start_time\"]+timePredict(row[\"stop_id\"],row[\"line_ID\"],row[\"prog_number\"],row[\"weekday\"],row[\"hour\"],row[\"route_start_stop\"],row[\"route_end_stop\"],weather))\n",
    "    return d"
   ]
  },
  {
   "cell_type": "code",
   "execution_count": 8,
   "metadata": {},
   "outputs": [],
   "source": [
    "num_processes = multiprocessing.cpu_count()\n",
    "chunk_size = int(timetable.shape[0]/num_processes)\n",
    "chunks = [timetable.iloc[i:i + chunk_size,:] for i in range(0, timetable.shape[0], chunk_size)]"
   ]
  },
  {
   "cell_type": "code",
   "execution_count": 9,
   "metadata": {},
   "outputs": [],
   "source": [
    "pool = multiprocessing.Pool(processes=num_processes)"
   ]
  },
  {
   "cell_type": "code",
   "execution_count": null,
   "metadata": {},
   "outputs": [],
   "source": [
    "start_time = time.time()\n",
    "result = pool.map(func, chunks)\n",
    "print((time.time() - start_time))"
   ]
  },
  {
   "cell_type": "code",
   "execution_count": null,
   "metadata": {},
   "outputs": [],
   "source": [
    "for i in range(len(result)):\n",
    "   # since result[i] is just a dataframe\n",
    "   # we can reassign the original dataframe based on the index of each chunk\n",
    "   timetable.ix[result[i].index] = result[i]"
   ]
  }
 ],
 "metadata": {
  "kernelspec": {
   "display_name": "Python 3",
   "language": "python",
   "name": "python3"
  },
  "language_info": {
   "codemirror_mode": {
    "name": "ipython",
    "version": 3
   },
   "file_extension": ".py",
   "mimetype": "text/x-python",
   "name": "python",
   "nbconvert_exporter": "python",
   "pygments_lexer": "ipython3",
   "version": "3.6.5"
  }
 },
 "nbformat": 4,
 "nbformat_minor": 2
}
